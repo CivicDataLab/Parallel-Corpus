{
 "cells": [
  {
   "cell_type": "code",
   "execution_count": 1,
   "metadata": {},
   "outputs": [],
   "source": [
    "import pandas  as pd"
   ]
  },
  {
   "cell_type": "code",
   "execution_count": 5,
   "metadata": {},
   "outputs": [],
   "source": [
    "stories = pd.read_csv('../data/stories.csv')"
   ]
  },
  {
   "cell_type": "code",
   "execution_count": 3,
   "metadata": {},
   "outputs": [
    {
     "data": {
      "text/plain": [
       "Index([u'story_id', u'title', u'english_title', u'reading_level_updated',\n",
       "       u'story_langugage', u'synopsis', u'content', u'license_type',\n",
       "       u'ancestry_updated', u'derivation_type_updated',\n",
       "       ...\n",
       "       u'Unnamed: 1014', u'Unnamed: 1015', u'Unnamed: 1016', u'Unnamed: 1017',\n",
       "       u'Unnamed: 1018', u'Unnamed: 1019', u'Unnamed: 1020', u'Unnamed: 1021',\n",
       "       u'Unnamed: 1022', u'Unnamed: 1023'],\n",
       "      dtype='object', length=1024)"
      ]
     },
     "execution_count": 3,
     "metadata": {},
     "output_type": "execute_result"
    }
   ],
   "source": [
    "stories.columns"
   ]
  },
  {
   "cell_type": "code",
   "execution_count": 4,
   "metadata": {},
   "outputs": [],
   "source": [
    "hindi_stories = stories[stories['story_langugage'] == 'Hindi']"
   ]
  },
  {
   "cell_type": "code",
   "execution_count": 6,
   "metadata": {},
   "outputs": [],
   "source": [
    "hindi_stories.to_csv('../data/hindi_stories.csv')"
   ]
  },
  {
   "cell_type": "code",
   "execution_count": null,
   "metadata": {},
   "outputs": [],
   "source": []
  }
 ],
 "metadata": {
  "kernelspec": {
   "display_name": "Python 2",
   "language": "python",
   "name": "python2"
  },
  "language_info": {
   "codemirror_mode": {
    "name": "ipython",
    "version": 2
   },
   "file_extension": ".py",
   "mimetype": "text/x-python",
   "name": "python",
   "nbconvert_exporter": "python",
   "pygments_lexer": "ipython2",
   "version": "2.7.15rc1"
  }
 },
 "nbformat": 4,
 "nbformat_minor": 2
}
