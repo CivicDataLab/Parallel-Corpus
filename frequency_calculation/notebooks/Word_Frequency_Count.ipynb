{
 "cells": [
  {
   "cell_type": "code",
   "execution_count": 1,
   "metadata": {},
   "outputs": [],
   "source": [
    "import pandas as pd\n",
    "import numpy as np"
   ]
  },
  {
   "cell_type": "code",
   "execution_count": 2,
   "metadata": {},
   "outputs": [
    {
     "name": "stderr",
     "output_type": "stream",
     "text": [
      "/home/ubuntu/.local/lib/python2.7/site-packages/IPython/core/interactiveshell.py:2714: DtypeWarning: Columns (34,36,37,38,39,40,41,42,43,44,45,46,47,48,49,50,51,52,53,54,55,56,57,58,59,60,61,62,63,64,65,66,67,68,69,70,71,72,73,74,75,76,77,78,79,80,81,82,83,84,85,86,87,88,89,90,91,92,93,94,95,96,97,98,99,100,101,102,103,104,105,106,107,108,109,110,111,112,113,114,115,116,117,118,119,120,121,122,123,124,125,126,127,128,129,130,131,132,133,134,135,136,137,138,139,140,141,142,143,144,145,146,147,148,149,150,151,152,153,154,155,156,157,158,159,160,161,162,163,164,165,166,167,168,169,170,171,172,173,174,175,176,177,178,179,180,181,182,183,184,185,186,187,188,189,190,191,192,193,194,195,196,197,198,199,200,201,202,203,204,205,206,207,208,209,210,211,212,213,214,215,216,217,218,219,220,221,222,223,224,225,226,227,228,229,230,231,232,233,234,235,236,237,238,239,240,241,242,243,244,245,246,247,248,249,250,251,252,253,254,255,256,257,258,259,260,261,262,263,264,265,266,267,268,269,270,271,272,273,274,275,276,277,278,279,280,281,282,283,284,285,286,287,288,289,290,291,292,293,294,295,296,297,298,299,300,301,302,303,304,305,306,307,308,309,310,311,312,313,314,315,316,317,318,319,320,321,322,323,324,325,326,327,328,329,330,331,332,333,334,335,336,337,338,339,340,341,342,343,344,345,346,347,348,349,350,351,352,353,354,355,356,357,358,359,360,361,362,363,364,365,366,367,368,369,370,371,372,373,374,375,376,377,378,379,380,381,382,383,384,385,386,387,388,389,390,391,392,393,394,395,396,397,398,399,400,401,402,403,404,405,406,407,408,409,410,411,412,413,414,415,416,417,418,419,420,421,422,423,424,425,426,427,428,429,430,431,432,433,434,435,436,437,438,439,440,441,442,443,444,445,446,447,448,449,450,451,452,453,454,455,456,457,458,459,460,461,462,463,464,465,466,467,468,469,470,471,472,473,474,475,476,477,478,479,480,481,482,483,484,485,486,487,488,489,490,491,492,493,494,495,496,497,498,499,500,501,502,503,504,505,506,507,508,509,510,511,512,513,514,515,516,517,518,519,520,521,522,523,524,525,526,527,528,529,530,531,532,533,534,535,536,537,538,539,540,541,542,543,544,545,546,547,548,549,550,551,552,553,554,555,556,557,558,559,560,561,562,563,564,565,566,567,568,569,570,571,572,573,574,575,576,577,578,579,580,581,582,583,584,585,586,587,588,589,590,591,592,593,594,595,596,597,598,599,600,601,602,603,604,605,606,607,608,609,610,611,612,613,614,615,616,617,618,619,620,621,622,623,624,625,626,627,628,629,630,631,632,633,634,635,636,637,638,639,640,641,642,643,644,645,646,647,648,649,650,651,652,653,654,655,656,657,658,659,660,661,662,663,664,665,666,667,668,669,670,671,672,673,674,675,676,677,678,679,680,681,682,683,684,685,686,687,688,689,690,691,692,693,694,695,696,697,698,699,700,701,702,703,704,705,706,707,708,709,710,711,712,713,714,715,716,717,718,719,720,721,722,723,724,725,726,727,728,729,730,731,732,733,734,735,736,737,738,739,740,741,742,743,744,745,746,747,748,749,750,751,752,753,754,755,756,757,758,759,760,761,762,763,764,765,766,767,768,769,770,771,772,773,774,775,776,777,778,779,780,781,782,783,784,785,786,787,788,789,790,791,792,793,794,795,796,797,798,799,800,801,802,803,804,805,806,807,808,809,810,811,812,813,814,815,816,817,818,819,820,821,822,823,824,825,826,827,828,829,830,831,832,833,834,835,836,837,838,839,840,841,842,843,844,845,846,847,848,849,850,851,852,853,854,855,856,857,858,859,860,861,862,863,864,865,866,867,868,869,870,871,872,873,874,875,876,877,878,879,880,881,882,883,884,885,886,887,888,889,890,891,892,893,894,895,896,897,898,899,900,901,902,903,904,905,906,907,908,909,910,911,912,913,914,915,916,917,918,919,920,921,922,923,924,925,926,927,928,929,930,931,932,933,934,935,936,937,938,939,940,941,942,943,944,945,946,947,948,949,950,951,952,953,954,955,956,957,958,959,960,961,962,963,964,965,966,967,968,969,970,971,972,973,974,975,976,977,978,979,980,981,982,983,984,985,986,987,988,989,990,991,992,993,994,995,996,997,998,999,1000,1001,1002,1003,1004,1005,1006,1007,1008,1009,1010,1011,1012,1013,1014,1015,1016,1017,1018,1019,1020,1021,1022,1023) have mixed types. Specify dtype option on import or set low_memory=False.\n",
      "  interactivity=interactivity, compiler=compiler, result=result)\n"
     ]
    }
   ],
   "source": [
    "stories  = pd.read_csv('../data/stories.csv')"
   ]
  },
  {
   "cell_type": "code",
   "execution_count": 3,
   "metadata": {},
   "outputs": [],
   "source": [
    "hindi_stories = stories[stories['story_langugage'] == 'Hindi']"
   ]
  },
  {
   "cell_type": "code",
   "execution_count": 4,
   "metadata": {},
   "outputs": [],
   "source": [
    "hindi_stories.reset_index(drop = True, inplace = True)"
   ]
  },
  {
   "cell_type": "code",
   "execution_count": 5,
   "metadata": {},
   "outputs": [
    {
     "data": {
      "text/html": [
       "<div>\n",
       "<table border=\"1\" class=\"dataframe\">\n",
       "  <thead>\n",
       "    <tr style=\"text-align: right;\">\n",
       "      <th></th>\n",
       "      <th>story_id</th>\n",
       "      <th>title</th>\n",
       "      <th>english_title</th>\n",
       "      <th>reading_level_updated</th>\n",
       "      <th>story_langugage</th>\n",
       "      <th>synopsis</th>\n",
       "      <th>content</th>\n",
       "      <th>license_type</th>\n",
       "      <th>ancestry_updated</th>\n",
       "      <th>derivation_type_updated</th>\n",
       "      <th>...</th>\n",
       "      <th>Unnamed: 1014</th>\n",
       "      <th>Unnamed: 1015</th>\n",
       "      <th>Unnamed: 1016</th>\n",
       "      <th>Unnamed: 1017</th>\n",
       "      <th>Unnamed: 1018</th>\n",
       "      <th>Unnamed: 1019</th>\n",
       "      <th>Unnamed: 1020</th>\n",
       "      <th>Unnamed: 1021</th>\n",
       "      <th>Unnamed: 1022</th>\n",
       "      <th>Unnamed: 1023</th>\n",
       "    </tr>\n",
       "  </thead>\n",
       "  <tbody>\n",
       "    <tr>\n",
       "      <th>0</th>\n",
       "      <td>1</td>\n",
       "      <td>वह हँस दिया</td>\n",
       "      <td>Veh Hans Diyaa</td>\n",
       "      <td>L1</td>\n",
       "      <td>Hindi</td>\n",
       "      <td>क्‍या आपको दौड़ लगाने में मज़ा आता है? हमारी कहा...</td>\n",
       "      <td>Kitchenvadoekdiscl ClothesT-hemp&amp;nbsp;&amp;nbsp;&amp;n...</td>\n",
       "      <td>CC BY 4.0</td>\n",
       "      <td>1</td>\n",
       "      <td>original</td>\n",
       "      <td>...</td>\n",
       "      <td>NaN</td>\n",
       "      <td>NaN</td>\n",
       "      <td>NaN</td>\n",
       "      <td>NaN</td>\n",
       "      <td>NaN</td>\n",
       "      <td>NaN</td>\n",
       "      <td>NaN</td>\n",
       "      <td>NaN</td>\n",
       "      <td>NaN</td>\n",
       "      <td>NaN</td>\n",
       "    </tr>\n",
       "    <tr>\n",
       "      <th>1</th>\n",
       "      <td>8</td>\n",
       "      <td>मोटा राजा दुबला कुत्ता</td>\n",
       "      <td>Mota Raja Dubla Kutta</td>\n",
       "      <td>L1</td>\n",
       "      <td>Hindi</td>\n",
       "      <td>मोटे राजा के साथ दुबले कुत्ते के पीछे भागिये!\\n</td>\n",
       "      <td>यह है मोटा राजा।  मोटे राजा का है दुबला कुत्ता...</td>\n",
       "      <td>CC BY 4.0</td>\n",
       "      <td>7</td>\n",
       "      <td>translated</td>\n",
       "      <td>...</td>\n",
       "      <td>NaN</td>\n",
       "      <td>NaN</td>\n",
       "      <td>NaN</td>\n",
       "      <td>NaN</td>\n",
       "      <td>NaN</td>\n",
       "      <td>NaN</td>\n",
       "      <td>NaN</td>\n",
       "      <td>NaN</td>\n",
       "      <td>NaN</td>\n",
       "      <td>NaN</td>\n",
       "    </tr>\n",
       "    <tr>\n",
       "      <th>2</th>\n",
       "      <td>34</td>\n",
       "      <td>अभी नहीं, अभी नहीं!</td>\n",
       "      <td>Abhi Nahin, Abhi Nahin!</td>\n",
       "      <td>L1</td>\n",
       "      <td>Hindi</td>\n",
       "      <td>यह बच्चा अभी सब कुछ करना चाहता है, लेकिन बड़े ल...</td>\n",
       "      <td>मैंने अज्जी से पूछा, “क्या मैं कुछ लड्डू खा लू...</td>\n",
       "      <td>CC BY 4.0</td>\n",
       "      <td>33</td>\n",
       "      <td>translated</td>\n",
       "      <td>...</td>\n",
       "      <td>NaN</td>\n",
       "      <td>NaN</td>\n",
       "      <td>NaN</td>\n",
       "      <td>NaN</td>\n",
       "      <td>NaN</td>\n",
       "      <td>NaN</td>\n",
       "      <td>NaN</td>\n",
       "      <td>NaN</td>\n",
       "      <td>NaN</td>\n",
       "      <td>NaN</td>\n",
       "    </tr>\n",
       "    <tr>\n",
       "      <th>3</th>\n",
       "      <td>47</td>\n",
       "      <td>चुप! मेरी नाक कुछ कह रही है...</td>\n",
       "      <td>Listen to my body...</td>\n",
       "      <td>L2</td>\n",
       "      <td>Hindi</td>\n",
       "      <td>हम सब के पास एक अनोखा शरीर है।पर क्या आपने कभी...</td>\n",
       "      <td>आज मैं स्कूल नहीं जाऊँगी । आज छुट्टी है!  आज म...</td>\n",
       "      <td>CC BY 4.0</td>\n",
       "      <td>40</td>\n",
       "      <td>translated</td>\n",
       "      <td>...</td>\n",
       "      <td>NaN</td>\n",
       "      <td>NaN</td>\n",
       "      <td>NaN</td>\n",
       "      <td>NaN</td>\n",
       "      <td>NaN</td>\n",
       "      <td>NaN</td>\n",
       "      <td>NaN</td>\n",
       "      <td>NaN</td>\n",
       "      <td>NaN</td>\n",
       "      <td>NaN</td>\n",
       "    </tr>\n",
       "    <tr>\n",
       "      <th>4</th>\n",
       "      <td>50</td>\n",
       "      <td>“मेरी मछली!” “नहीं, मेरी मछली!”</td>\n",
       "      <td>Meri Machli! Nahin, Meri Machli!</td>\n",
       "      <td>L1</td>\n",
       "      <td>Hindi</td>\n",
       "      <td>तीन दोस्तों और तीन चालाक मछलियों की \\nएक मज़ेदा...</td>\n",
       "      <td>एक सुबह किच्चू जल्दी उठा। उसने जम्हाई लेते हुए...</td>\n",
       "      <td>CC BY 4.0</td>\n",
       "      <td>49</td>\n",
       "      <td>translated</td>\n",
       "      <td>...</td>\n",
       "      <td>NaN</td>\n",
       "      <td>NaN</td>\n",
       "      <td>NaN</td>\n",
       "      <td>NaN</td>\n",
       "      <td>NaN</td>\n",
       "      <td>NaN</td>\n",
       "      <td>NaN</td>\n",
       "      <td>NaN</td>\n",
       "      <td>NaN</td>\n",
       "      <td>NaN</td>\n",
       "    </tr>\n",
       "  </tbody>\n",
       "</table>\n",
       "<p>5 rows × 1024 columns</p>\n",
       "</div>"
      ],
      "text/plain": [
       "   story_id                            title  \\\n",
       "0         1                      वह हँस दिया   \n",
       "1         8           मोटा राजा दुबला कुत्ता   \n",
       "2        34              अभी नहीं, अभी नहीं!   \n",
       "3        47   चुप! मेरी नाक कुछ कह रही है...   \n",
       "4        50  “मेरी मछली!” “नहीं, मेरी मछली!”   \n",
       "\n",
       "                      english_title reading_level_updated story_langugage  \\\n",
       "0                    Veh Hans Diyaa                    L1           Hindi   \n",
       "1             Mota Raja Dubla Kutta                    L1           Hindi   \n",
       "2           Abhi Nahin, Abhi Nahin!                    L1           Hindi   \n",
       "3              Listen to my body...                    L2           Hindi   \n",
       "4  Meri Machli! Nahin, Meri Machli!                    L1           Hindi   \n",
       "\n",
       "                                            synopsis  \\\n",
       "0  क्‍या आपको दौड़ लगाने में मज़ा आता है? हमारी कहा...   \n",
       "1    मोटे राजा के साथ दुबले कुत्ते के पीछे भागिये!\\n   \n",
       "2  यह बच्चा अभी सब कुछ करना चाहता है, लेकिन बड़े ल...   \n",
       "3  हम सब के पास एक अनोखा शरीर है।पर क्या आपने कभी...   \n",
       "4  तीन दोस्तों और तीन चालाक मछलियों की \\nएक मज़ेदा...   \n",
       "\n",
       "                                             content license_type  \\\n",
       "0  Kitchenvadoekdiscl ClothesT-hemp&nbsp;&nbsp;&n...    CC BY 4.0   \n",
       "1  यह है मोटा राजा।  मोटे राजा का है दुबला कुत्ता...    CC BY 4.0   \n",
       "2  मैंने अज्जी से पूछा, “क्या मैं कुछ लड्डू खा लू...    CC BY 4.0   \n",
       "3  आज मैं स्कूल नहीं जाऊँगी । आज छुट्टी है!  आज म...    CC BY 4.0   \n",
       "4  एक सुबह किच्चू जल्दी उठा। उसने जम्हाई लेते हुए...    CC BY 4.0   \n",
       "\n",
       "  ancestry_updated derivation_type_updated      ...      Unnamed: 1014  \\\n",
       "0                1                original      ...                NaN   \n",
       "1                7              translated      ...                NaN   \n",
       "2               33              translated      ...                NaN   \n",
       "3               40              translated      ...                NaN   \n",
       "4               49              translated      ...                NaN   \n",
       "\n",
       "  Unnamed: 1015 Unnamed: 1016 Unnamed: 1017 Unnamed: 1018 Unnamed: 1019  \\\n",
       "0           NaN           NaN           NaN           NaN           NaN   \n",
       "1           NaN           NaN           NaN           NaN           NaN   \n",
       "2           NaN           NaN           NaN           NaN           NaN   \n",
       "3           NaN           NaN           NaN           NaN           NaN   \n",
       "4           NaN           NaN           NaN           NaN           NaN   \n",
       "\n",
       "  Unnamed: 1020 Unnamed: 1021 Unnamed: 1022 Unnamed: 1023  \n",
       "0           NaN           NaN           NaN           NaN  \n",
       "1           NaN           NaN           NaN           NaN  \n",
       "2           NaN           NaN           NaN           NaN  \n",
       "3           NaN           NaN           NaN           NaN  \n",
       "4           NaN           NaN           NaN           NaN  \n",
       "\n",
       "[5 rows x 1024 columns]"
      ]
     },
     "execution_count": 5,
     "metadata": {},
     "output_type": "execute_result"
    }
   ],
   "source": [
    "hindi_stories.head()"
   ]
  },
  {
   "cell_type": "code",
   "execution_count": 6,
   "metadata": {},
   "outputs": [],
   "source": [
    "word_count = hindi_stories['content'].str.split(expand=True).stack().value_counts()\n"
   ]
  },
  {
   "cell_type": "code",
   "execution_count": 7,
   "metadata": {},
   "outputs": [],
   "source": [
    "word_count = pd.DataFrame(word_count)"
   ]
  },
  {
   "cell_type": "code",
   "execution_count": 8,
   "metadata": {},
   "outputs": [],
   "source": [
    "word_count.reset_index(inplace = True)"
   ]
  },
  {
   "cell_type": "code",
   "execution_count": 9,
   "metadata": {},
   "outputs": [],
   "source": [
    "word_count.columns = ['word','count']"
   ]
  },
  {
   "cell_type": "code",
   "execution_count": 10,
   "metadata": {},
   "outputs": [],
   "source": [
    "word_count.to_csv('../data/word_frequency_count.csv', encoding = 'utf-8', index = False)"
   ]
  },
  {
   "cell_type": "code",
   "execution_count": null,
   "metadata": {},
   "outputs": [],
   "source": []
  }
 ],
 "metadata": {
  "kernelspec": {
   "display_name": "Python 2",
   "language": "python",
   "name": "python2"
  },
  "language_info": {
   "codemirror_mode": {
    "name": "ipython",
    "version": 2
   },
   "file_extension": ".py",
   "mimetype": "text/x-python",
   "name": "python",
   "nbconvert_exporter": "python",
   "pygments_lexer": "ipython2",
   "version": "2.7.15rc1"
  }
 },
 "nbformat": 4,
 "nbformat_minor": 2
}
